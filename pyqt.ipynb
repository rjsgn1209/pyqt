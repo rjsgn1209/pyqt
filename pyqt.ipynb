{
 "cells": [
  {
   "cell_type": "code",
   "execution_count": 1,
   "id": "2be98134",
   "metadata": {},
   "outputs": [],
   "source": [
    "import sys\n",
    "import PyQt5\n",
    "from PyQt5.QtGui import *\n",
    "from PyQt5.QtCore import *\n",
    "from PyQt5.QtWidgets import *"
   ]
  },
  {
   "cell_type": "code",
   "execution_count": 2,
   "id": "f035d893",
   "metadata": {},
   "outputs": [],
   "source": [
    "class MainDialog(QDialog):\n",
    "    def __init__(self):\n",
    "        QDialog.__init__(self, None)"
   ]
  },
  {
   "cell_type": "code",
   "execution_count": 3,
   "id": "9a5148d9",
   "metadata": {},
   "outputs": [],
   "source": [
    "app = QApplication(sys.argv)"
   ]
  },
  {
   "cell_type": "code",
   "execution_count": 4,
   "id": "96b0746a",
   "metadata": {},
   "outputs": [
    {
     "name": "stdout",
     "output_type": "stream",
     "text": [
      "['C:\\\\Users\\\\bitcamp\\\\anaconda3\\\\lib\\\\site-packages\\\\ipykernel_launcher.py', '-f', 'C:\\\\Users\\\\bitcamp\\\\AppData\\\\Roaming\\\\jupyter\\\\runtime\\\\kernel-57ba4ccc-183c-490b-b8d1-e01991ce0241.json']\n"
     ]
    }
   ],
   "source": [
    "print(sys.argv) # 파일의 절대 경로"
   ]
  },
  {
   "cell_type": "code",
   "execution_count": 5,
   "id": "d4ac4eb8",
   "metadata": {},
   "outputs": [],
   "source": [
    "main_dialog = MainDialog()\n",
    "main_dialog.show()"
   ]
  },
  {
   "cell_type": "code",
   "execution_count": null,
   "id": "ceb1d674",
   "metadata": {},
   "outputs": [],
   "source": []
  },
  {
   "cell_type": "code",
   "execution_count": null,
   "id": "bc88fc37",
   "metadata": {},
   "outputs": [],
   "source": [
    "import sys\n",
    "import PyQt5\n",
    "from PyQt5.QtGui import *\n",
    "from PyQt5.QtCore import *\n",
    "from PyQt5.QtWidgets import *\n",
    "\n",
    "class MainDialog(QDialog):\n",
    "    def __init__(self):\n",
    "        QDialog.__init__(self, None)\n",
    "        self.selFixedSize(300, 200)\n",
    "        self.lineEdit = QLineEdit(self)\n",
    "        self.pushButton = QPushButton(self)\n",
    "        self.pushButton.move(0,100)\n",
    "        \n",
    "app = QApplication(sys.argv)\n",
    "\n",
    "main_dialog = MainDialog()\n",
    "main_dialog.show()"
   ]
  },
  {
   "cell_type": "code",
   "execution_count": null,
   "id": "f38ddf24",
   "metadata": {},
   "outputs": [],
   "source": []
  },
  {
   "cell_type": "code",
   "execution_count": null,
   "id": "6f5d9d13",
   "metadata": {},
   "outputs": [],
   "source": []
  }
 ],
 "metadata": {
  "kernelspec": {
   "display_name": "Python 3 (ipykernel)",
   "language": "python",
   "name": "python3"
  },
  "language_info": {
   "codemirror_mode": {
    "name": "ipython",
    "version": 3
   },
   "file_extension": ".py",
   "mimetype": "text/x-python",
   "name": "python",
   "nbconvert_exporter": "python",
   "pygments_lexer": "ipython3",
   "version": "3.9.7"
  }
 },
 "nbformat": 4,
 "nbformat_minor": 5
}
